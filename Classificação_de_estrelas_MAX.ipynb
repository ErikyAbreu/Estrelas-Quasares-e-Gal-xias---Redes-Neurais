{
  "cells": [
    {
      "cell_type": "markdown",
      "metadata": {
        "id": "MjJZA1lbKjfE"
      },
      "source": [
        "## Classificação de estrelas - Redes Neurais"
      ]
    },
    {
      "cell_type": "markdown",
      "metadata": {
        "id": "Vrrmf905GbQL"
      },
      "source": [
        "## 1. Importando bibliotecas"
      ]
    },
    {
      "cell_type": "code",
      "execution_count": 3,
      "metadata": {
        "id": "YQZ21YC7HJBf"
      },
      "outputs": [],
      "source": [
        "import tensorflow as tf\n",
        "import numpy as np\n",
        "import pandas as pd\n",
        "import matplotlib.pyplot as plt\n",
        "from sklearn.model_selection import train_test_split\n",
        "from sklearn.preprocessing import StandardScaler\n",
        "from sklearn.preprocessing import LabelEncoder"
      ]
    },
    {
      "cell_type": "markdown",
      "metadata": {
        "id": "YWFZQg4wGbQU"
      },
      "source": [
        "## 2. Carregando dataset"
      ]
    },
    {
      "cell_type": "code",
      "execution_count": 4,
      "metadata": {
        "id": "u7WNIa6TGbQV"
      },
      "outputs": [],
      "source": [
        "df = pd.read_csv('star_classification.csv')\n"
      ]
    },
    {
      "cell_type": "markdown",
      "metadata": {
        "id": "F4hMrRNnGbQX"
      },
      "source": [
        "### 2.1. Informações do dataset\n"
      ]
    },
    {
      "cell_type": "code",
      "source": [
        "df.shape #QUANTIDADE DE LINHAS | QUANTIDADE DE COLUNAS"
      ],
      "metadata": {
        "colab": {
          "base_uri": "https://localhost:8080/"
        },
        "id": "t7cmLbHHLliP",
        "outputId": "82231d1a-6dd9-4e73-ad8f-a3708c081dcd"
      },
      "execution_count": 5,
      "outputs": [
        {
          "output_type": "execute_result",
          "data": {
            "text/plain": [
              "(100000, 18)"
            ]
          },
          "metadata": {},
          "execution_count": 5
        }
      ]
    },
    {
      "cell_type": "code",
      "source": [
        "df.info() #INFORMAÇÕES DA TABELA"
      ],
      "metadata": {
        "colab": {
          "base_uri": "https://localhost:8080/"
        },
        "id": "eYAWi617L3G7",
        "outputId": "393f1c2b-f7d1-4fe5-a2ef-96999883e736"
      },
      "execution_count": 6,
      "outputs": [
        {
          "output_type": "stream",
          "name": "stdout",
          "text": [
            "<class 'pandas.core.frame.DataFrame'>\n",
            "RangeIndex: 100000 entries, 0 to 99999\n",
            "Data columns (total 18 columns):\n",
            " #   Column       Non-Null Count   Dtype  \n",
            "---  ------       --------------   -----  \n",
            " 0   obj_ID       100000 non-null  float64\n",
            " 1   alpha        100000 non-null  float64\n",
            " 2   delta        100000 non-null  float64\n",
            " 3   u            100000 non-null  float64\n",
            " 4   g            100000 non-null  float64\n",
            " 5   r            100000 non-null  float64\n",
            " 6   i            100000 non-null  float64\n",
            " 7   z            100000 non-null  float64\n",
            " 8   run_ID       100000 non-null  int64  \n",
            " 9   rerun_ID     100000 non-null  int64  \n",
            " 10  cam_col      100000 non-null  int64  \n",
            " 11  field_ID     100000 non-null  int64  \n",
            " 12  spec_obj_ID  100000 non-null  float64\n",
            " 13  class        100000 non-null  object \n",
            " 14  redshift     100000 non-null  float64\n",
            " 15  plate        100000 non-null  int64  \n",
            " 16  MJD          100000 non-null  int64  \n",
            " 17  fiber_ID     100000 non-null  int64  \n",
            "dtypes: float64(10), int64(7), object(1)\n",
            "memory usage: 13.7+ MB\n"
          ]
        }
      ]
    },
    {
      "cell_type": "code",
      "source": [
        "df.isnull().sum() #VALORES NULOS"
      ],
      "metadata": {
        "colab": {
          "base_uri": "https://localhost:8080/"
        },
        "id": "Pm2Q89XDMrdB",
        "outputId": "9fb703d3-8328-4d36-9798-64d564a6a3e7"
      },
      "execution_count": 7,
      "outputs": [
        {
          "output_type": "execute_result",
          "data": {
            "text/plain": [
              "obj_ID         0\n",
              "alpha          0\n",
              "delta          0\n",
              "u              0\n",
              "g              0\n",
              "r              0\n",
              "i              0\n",
              "z              0\n",
              "run_ID         0\n",
              "rerun_ID       0\n",
              "cam_col        0\n",
              "field_ID       0\n",
              "spec_obj_ID    0\n",
              "class          0\n",
              "redshift       0\n",
              "plate          0\n",
              "MJD            0\n",
              "fiber_ID       0\n",
              "dtype: int64"
            ]
          },
          "metadata": {},
          "execution_count": 7
        }
      ]
    },
    {
      "cell_type": "code",
      "source": [
        "df.head(10) #IMPRIMINDO AS 10 PRIMEIRAS INFORMAÇÕES"
      ],
      "metadata": {
        "colab": {
          "base_uri": "https://localhost:8080/",
          "height": 363
        },
        "id": "J2hmR5e9fkUV",
        "outputId": "6b80130c-424d-4c4d-c1ae-d56bd07b0891"
      },
      "execution_count": 8,
      "outputs": [
        {
          "output_type": "execute_result",
          "data": {
            "text/plain": [
              "         obj_ID       alpha      delta         u         g         r  \\\n",
              "0  1.237661e+18  135.689107  32.494632  23.87882  22.27530  20.39501   \n",
              "1  1.237665e+18  144.826101  31.274185  24.77759  22.83188  22.58444   \n",
              "2  1.237661e+18  142.188790  35.582444  25.26307  22.66389  20.60976   \n",
              "3  1.237663e+18  338.741038  -0.402828  22.13682  23.77656  21.61162   \n",
              "4  1.237680e+18  345.282593  21.183866  19.43718  17.58028  16.49747   \n",
              "5  1.237680e+18  340.995121  20.589476  23.48827  23.33776  21.32195   \n",
              "6  1.237679e+18   23.234926  11.418188  21.46973  21.17624  20.92829   \n",
              "7  1.237679e+18    5.433176  12.065186  22.24979  22.02172  20.34126   \n",
              "8  1.237661e+18  200.290475  47.199402  24.40286  22.35669  20.61032   \n",
              "9  1.237671e+18   39.149691  28.102842  21.74669  20.03493  19.17553   \n",
              "\n",
              "          i         z  run_ID  rerun_ID  cam_col  field_ID   spec_obj_ID  \\\n",
              "0  19.16573  18.79371    3606       301        2        79  6.543777e+18   \n",
              "1  21.16812  21.61427    4518       301        5       119  1.176014e+19   \n",
              "2  19.34857  18.94827    3606       301        2       120  5.152200e+18   \n",
              "3  20.50454  19.25010    4192       301        3       214  1.030107e+19   \n",
              "4  15.97711  15.54461    8102       301        3       137  6.891865e+18   \n",
              "5  20.25615  19.54544    8102       301        3       110  5.658977e+18   \n",
              "6  20.60826  20.42573    7773       301        2       462  1.246262e+19   \n",
              "7  19.48794  18.84999    7773       301        2       346  6.961443e+18   \n",
              "8  19.46490  18.95852    3716       301        5       108  7.459285e+18   \n",
              "9  18.81823  18.65422    5934       301        4       122  2.751763e+18   \n",
              "\n",
              "    class  redshift  plate    MJD  fiber_ID  \n",
              "0  GALAXY  0.634794   5812  56354       171  \n",
              "1  GALAXY  0.779136  10445  58158       427  \n",
              "2  GALAXY  0.644195   4576  55592       299  \n",
              "3  GALAXY  0.932346   9149  58039       775  \n",
              "4  GALAXY  0.116123   6121  56187       842  \n",
              "5     QSO  1.424659   5026  55855       741  \n",
              "6     QSO  0.586455  11069  58456       113  \n",
              "7  GALAXY  0.477009   6183  56210        15  \n",
              "8  GALAXY  0.660012   6625  56386       719  \n",
              "9    STAR -0.000008   2444  54082       232  "
            ],
            "text/html": [
              "\n",
              "\n",
              "  <div id=\"df-cc9897be-bc9a-4825-9122-b640573e5610\">\n",
              "    <div class=\"colab-df-container\">\n",
              "      <div>\n",
              "<style scoped>\n",
              "    .dataframe tbody tr th:only-of-type {\n",
              "        vertical-align: middle;\n",
              "    }\n",
              "\n",
              "    .dataframe tbody tr th {\n",
              "        vertical-align: top;\n",
              "    }\n",
              "\n",
              "    .dataframe thead th {\n",
              "        text-align: right;\n",
              "    }\n",
              "</style>\n",
              "<table border=\"1\" class=\"dataframe\">\n",
              "  <thead>\n",
              "    <tr style=\"text-align: right;\">\n",
              "      <th></th>\n",
              "      <th>obj_ID</th>\n",
              "      <th>alpha</th>\n",
              "      <th>delta</th>\n",
              "      <th>u</th>\n",
              "      <th>g</th>\n",
              "      <th>r</th>\n",
              "      <th>i</th>\n",
              "      <th>z</th>\n",
              "      <th>run_ID</th>\n",
              "      <th>rerun_ID</th>\n",
              "      <th>cam_col</th>\n",
              "      <th>field_ID</th>\n",
              "      <th>spec_obj_ID</th>\n",
              "      <th>class</th>\n",
              "      <th>redshift</th>\n",
              "      <th>plate</th>\n",
              "      <th>MJD</th>\n",
              "      <th>fiber_ID</th>\n",
              "    </tr>\n",
              "  </thead>\n",
              "  <tbody>\n",
              "    <tr>\n",
              "      <th>0</th>\n",
              "      <td>1.237661e+18</td>\n",
              "      <td>135.689107</td>\n",
              "      <td>32.494632</td>\n",
              "      <td>23.87882</td>\n",
              "      <td>22.27530</td>\n",
              "      <td>20.39501</td>\n",
              "      <td>19.16573</td>\n",
              "      <td>18.79371</td>\n",
              "      <td>3606</td>\n",
              "      <td>301</td>\n",
              "      <td>2</td>\n",
              "      <td>79</td>\n",
              "      <td>6.543777e+18</td>\n",
              "      <td>GALAXY</td>\n",
              "      <td>0.634794</td>\n",
              "      <td>5812</td>\n",
              "      <td>56354</td>\n",
              "      <td>171</td>\n",
              "    </tr>\n",
              "    <tr>\n",
              "      <th>1</th>\n",
              "      <td>1.237665e+18</td>\n",
              "      <td>144.826101</td>\n",
              "      <td>31.274185</td>\n",
              "      <td>24.77759</td>\n",
              "      <td>22.83188</td>\n",
              "      <td>22.58444</td>\n",
              "      <td>21.16812</td>\n",
              "      <td>21.61427</td>\n",
              "      <td>4518</td>\n",
              "      <td>301</td>\n",
              "      <td>5</td>\n",
              "      <td>119</td>\n",
              "      <td>1.176014e+19</td>\n",
              "      <td>GALAXY</td>\n",
              "      <td>0.779136</td>\n",
              "      <td>10445</td>\n",
              "      <td>58158</td>\n",
              "      <td>427</td>\n",
              "    </tr>\n",
              "    <tr>\n",
              "      <th>2</th>\n",
              "      <td>1.237661e+18</td>\n",
              "      <td>142.188790</td>\n",
              "      <td>35.582444</td>\n",
              "      <td>25.26307</td>\n",
              "      <td>22.66389</td>\n",
              "      <td>20.60976</td>\n",
              "      <td>19.34857</td>\n",
              "      <td>18.94827</td>\n",
              "      <td>3606</td>\n",
              "      <td>301</td>\n",
              "      <td>2</td>\n",
              "      <td>120</td>\n",
              "      <td>5.152200e+18</td>\n",
              "      <td>GALAXY</td>\n",
              "      <td>0.644195</td>\n",
              "      <td>4576</td>\n",
              "      <td>55592</td>\n",
              "      <td>299</td>\n",
              "    </tr>\n",
              "    <tr>\n",
              "      <th>3</th>\n",
              "      <td>1.237663e+18</td>\n",
              "      <td>338.741038</td>\n",
              "      <td>-0.402828</td>\n",
              "      <td>22.13682</td>\n",
              "      <td>23.77656</td>\n",
              "      <td>21.61162</td>\n",
              "      <td>20.50454</td>\n",
              "      <td>19.25010</td>\n",
              "      <td>4192</td>\n",
              "      <td>301</td>\n",
              "      <td>3</td>\n",
              "      <td>214</td>\n",
              "      <td>1.030107e+19</td>\n",
              "      <td>GALAXY</td>\n",
              "      <td>0.932346</td>\n",
              "      <td>9149</td>\n",
              "      <td>58039</td>\n",
              "      <td>775</td>\n",
              "    </tr>\n",
              "    <tr>\n",
              "      <th>4</th>\n",
              "      <td>1.237680e+18</td>\n",
              "      <td>345.282593</td>\n",
              "      <td>21.183866</td>\n",
              "      <td>19.43718</td>\n",
              "      <td>17.58028</td>\n",
              "      <td>16.49747</td>\n",
              "      <td>15.97711</td>\n",
              "      <td>15.54461</td>\n",
              "      <td>8102</td>\n",
              "      <td>301</td>\n",
              "      <td>3</td>\n",
              "      <td>137</td>\n",
              "      <td>6.891865e+18</td>\n",
              "      <td>GALAXY</td>\n",
              "      <td>0.116123</td>\n",
              "      <td>6121</td>\n",
              "      <td>56187</td>\n",
              "      <td>842</td>\n",
              "    </tr>\n",
              "    <tr>\n",
              "      <th>5</th>\n",
              "      <td>1.237680e+18</td>\n",
              "      <td>340.995121</td>\n",
              "      <td>20.589476</td>\n",
              "      <td>23.48827</td>\n",
              "      <td>23.33776</td>\n",
              "      <td>21.32195</td>\n",
              "      <td>20.25615</td>\n",
              "      <td>19.54544</td>\n",
              "      <td>8102</td>\n",
              "      <td>301</td>\n",
              "      <td>3</td>\n",
              "      <td>110</td>\n",
              "      <td>5.658977e+18</td>\n",
              "      <td>QSO</td>\n",
              "      <td>1.424659</td>\n",
              "      <td>5026</td>\n",
              "      <td>55855</td>\n",
              "      <td>741</td>\n",
              "    </tr>\n",
              "    <tr>\n",
              "      <th>6</th>\n",
              "      <td>1.237679e+18</td>\n",
              "      <td>23.234926</td>\n",
              "      <td>11.418188</td>\n",
              "      <td>21.46973</td>\n",
              "      <td>21.17624</td>\n",
              "      <td>20.92829</td>\n",
              "      <td>20.60826</td>\n",
              "      <td>20.42573</td>\n",
              "      <td>7773</td>\n",
              "      <td>301</td>\n",
              "      <td>2</td>\n",
              "      <td>462</td>\n",
              "      <td>1.246262e+19</td>\n",
              "      <td>QSO</td>\n",
              "      <td>0.586455</td>\n",
              "      <td>11069</td>\n",
              "      <td>58456</td>\n",
              "      <td>113</td>\n",
              "    </tr>\n",
              "    <tr>\n",
              "      <th>7</th>\n",
              "      <td>1.237679e+18</td>\n",
              "      <td>5.433176</td>\n",
              "      <td>12.065186</td>\n",
              "      <td>22.24979</td>\n",
              "      <td>22.02172</td>\n",
              "      <td>20.34126</td>\n",
              "      <td>19.48794</td>\n",
              "      <td>18.84999</td>\n",
              "      <td>7773</td>\n",
              "      <td>301</td>\n",
              "      <td>2</td>\n",
              "      <td>346</td>\n",
              "      <td>6.961443e+18</td>\n",
              "      <td>GALAXY</td>\n",
              "      <td>0.477009</td>\n",
              "      <td>6183</td>\n",
              "      <td>56210</td>\n",
              "      <td>15</td>\n",
              "    </tr>\n",
              "    <tr>\n",
              "      <th>8</th>\n",
              "      <td>1.237661e+18</td>\n",
              "      <td>200.290475</td>\n",
              "      <td>47.199402</td>\n",
              "      <td>24.40286</td>\n",
              "      <td>22.35669</td>\n",
              "      <td>20.61032</td>\n",
              "      <td>19.46490</td>\n",
              "      <td>18.95852</td>\n",
              "      <td>3716</td>\n",
              "      <td>301</td>\n",
              "      <td>5</td>\n",
              "      <td>108</td>\n",
              "      <td>7.459285e+18</td>\n",
              "      <td>GALAXY</td>\n",
              "      <td>0.660012</td>\n",
              "      <td>6625</td>\n",
              "      <td>56386</td>\n",
              "      <td>719</td>\n",
              "    </tr>\n",
              "    <tr>\n",
              "      <th>9</th>\n",
              "      <td>1.237671e+18</td>\n",
              "      <td>39.149691</td>\n",
              "      <td>28.102842</td>\n",
              "      <td>21.74669</td>\n",
              "      <td>20.03493</td>\n",
              "      <td>19.17553</td>\n",
              "      <td>18.81823</td>\n",
              "      <td>18.65422</td>\n",
              "      <td>5934</td>\n",
              "      <td>301</td>\n",
              "      <td>4</td>\n",
              "      <td>122</td>\n",
              "      <td>2.751763e+18</td>\n",
              "      <td>STAR</td>\n",
              "      <td>-0.000008</td>\n",
              "      <td>2444</td>\n",
              "      <td>54082</td>\n",
              "      <td>232</td>\n",
              "    </tr>\n",
              "  </tbody>\n",
              "</table>\n",
              "</div>\n",
              "      <button class=\"colab-df-convert\" onclick=\"convertToInteractive('df-cc9897be-bc9a-4825-9122-b640573e5610')\"\n",
              "              title=\"Convert this dataframe to an interactive table.\"\n",
              "              style=\"display:none;\">\n",
              "\n",
              "  <svg xmlns=\"http://www.w3.org/2000/svg\" height=\"24px\"viewBox=\"0 0 24 24\"\n",
              "       width=\"24px\">\n",
              "    <path d=\"M0 0h24v24H0V0z\" fill=\"none\"/>\n",
              "    <path d=\"M18.56 5.44l.94 2.06.94-2.06 2.06-.94-2.06-.94-.94-2.06-.94 2.06-2.06.94zm-11 1L8.5 8.5l.94-2.06 2.06-.94-2.06-.94L8.5 2.5l-.94 2.06-2.06.94zm10 10l.94 2.06.94-2.06 2.06-.94-2.06-.94-.94-2.06-.94 2.06-2.06.94z\"/><path d=\"M17.41 7.96l-1.37-1.37c-.4-.4-.92-.59-1.43-.59-.52 0-1.04.2-1.43.59L10.3 9.45l-7.72 7.72c-.78.78-.78 2.05 0 2.83L4 21.41c.39.39.9.59 1.41.59.51 0 1.02-.2 1.41-.59l7.78-7.78 2.81-2.81c.8-.78.8-2.07 0-2.86zM5.41 20L4 18.59l7.72-7.72 1.47 1.35L5.41 20z\"/>\n",
              "  </svg>\n",
              "      </button>\n",
              "\n",
              "\n",
              "\n",
              "    <div id=\"df-829735f0-0f91-430e-ace7-09f8c539b2ec\">\n",
              "      <button class=\"colab-df-quickchart\" onclick=\"quickchart('df-829735f0-0f91-430e-ace7-09f8c539b2ec')\"\n",
              "              title=\"Suggest charts.\"\n",
              "              style=\"display:none;\">\n",
              "\n",
              "<svg xmlns=\"http://www.w3.org/2000/svg\" height=\"24px\"viewBox=\"0 0 24 24\"\n",
              "     width=\"24px\">\n",
              "    <g>\n",
              "        <path d=\"M19 3H5c-1.1 0-2 .9-2 2v14c0 1.1.9 2 2 2h14c1.1 0 2-.9 2-2V5c0-1.1-.9-2-2-2zM9 17H7v-7h2v7zm4 0h-2V7h2v10zm4 0h-2v-4h2v4z\"/>\n",
              "    </g>\n",
              "</svg>\n",
              "      </button>\n",
              "    </div>\n",
              "\n",
              "<style>\n",
              "  .colab-df-quickchart {\n",
              "    background-color: #E8F0FE;\n",
              "    border: none;\n",
              "    border-radius: 50%;\n",
              "    cursor: pointer;\n",
              "    display: none;\n",
              "    fill: #1967D2;\n",
              "    height: 32px;\n",
              "    padding: 0 0 0 0;\n",
              "    width: 32px;\n",
              "  }\n",
              "\n",
              "  .colab-df-quickchart:hover {\n",
              "    background-color: #E2EBFA;\n",
              "    box-shadow: 0px 1px 2px rgba(60, 64, 67, 0.3), 0px 1px 3px 1px rgba(60, 64, 67, 0.15);\n",
              "    fill: #174EA6;\n",
              "  }\n",
              "\n",
              "  [theme=dark] .colab-df-quickchart {\n",
              "    background-color: #3B4455;\n",
              "    fill: #D2E3FC;\n",
              "  }\n",
              "\n",
              "  [theme=dark] .colab-df-quickchart:hover {\n",
              "    background-color: #434B5C;\n",
              "    box-shadow: 0px 1px 3px 1px rgba(0, 0, 0, 0.15);\n",
              "    filter: drop-shadow(0px 1px 2px rgba(0, 0, 0, 0.3));\n",
              "    fill: #FFFFFF;\n",
              "  }\n",
              "</style>\n",
              "\n",
              "    <script>\n",
              "      async function quickchart(key) {\n",
              "        const containerElement = document.querySelector('#' + key);\n",
              "        const charts = await google.colab.kernel.invokeFunction(\n",
              "            'suggestCharts', [key], {});\n",
              "      }\n",
              "    </script>\n",
              "\n",
              "      <script>\n",
              "\n",
              "function displayQuickchartButton(domScope) {\n",
              "  let quickchartButtonEl =\n",
              "    domScope.querySelector('#df-829735f0-0f91-430e-ace7-09f8c539b2ec button.colab-df-quickchart');\n",
              "  quickchartButtonEl.style.display =\n",
              "    google.colab.kernel.accessAllowed ? 'block' : 'none';\n",
              "}\n",
              "\n",
              "        displayQuickchartButton(document);\n",
              "      </script>\n",
              "      <style>\n",
              "    .colab-df-container {\n",
              "      display:flex;\n",
              "      flex-wrap:wrap;\n",
              "      gap: 12px;\n",
              "    }\n",
              "\n",
              "    .colab-df-convert {\n",
              "      background-color: #E8F0FE;\n",
              "      border: none;\n",
              "      border-radius: 50%;\n",
              "      cursor: pointer;\n",
              "      display: none;\n",
              "      fill: #1967D2;\n",
              "      height: 32px;\n",
              "      padding: 0 0 0 0;\n",
              "      width: 32px;\n",
              "    }\n",
              "\n",
              "    .colab-df-convert:hover {\n",
              "      background-color: #E2EBFA;\n",
              "      box-shadow: 0px 1px 2px rgba(60, 64, 67, 0.3), 0px 1px 3px 1px rgba(60, 64, 67, 0.15);\n",
              "      fill: #174EA6;\n",
              "    }\n",
              "\n",
              "    [theme=dark] .colab-df-convert {\n",
              "      background-color: #3B4455;\n",
              "      fill: #D2E3FC;\n",
              "    }\n",
              "\n",
              "    [theme=dark] .colab-df-convert:hover {\n",
              "      background-color: #434B5C;\n",
              "      box-shadow: 0px 1px 3px 1px rgba(0, 0, 0, 0.15);\n",
              "      filter: drop-shadow(0px 1px 2px rgba(0, 0, 0, 0.3));\n",
              "      fill: #FFFFFF;\n",
              "    }\n",
              "  </style>\n",
              "\n",
              "      <script>\n",
              "        const buttonEl =\n",
              "          document.querySelector('#df-cc9897be-bc9a-4825-9122-b640573e5610 button.colab-df-convert');\n",
              "        buttonEl.style.display =\n",
              "          google.colab.kernel.accessAllowed ? 'block' : 'none';\n",
              "\n",
              "        async function convertToInteractive(key) {\n",
              "          const element = document.querySelector('#df-cc9897be-bc9a-4825-9122-b640573e5610');\n",
              "          const dataTable =\n",
              "            await google.colab.kernel.invokeFunction('convertToInteractive',\n",
              "                                                     [key], {});\n",
              "          if (!dataTable) return;\n",
              "\n",
              "          const docLinkHtml = 'Like what you see? Visit the ' +\n",
              "            '<a target=\"_blank\" href=https://colab.research.google.com/notebooks/data_table.ipynb>data table notebook</a>'\n",
              "            + ' to learn more about interactive tables.';\n",
              "          element.innerHTML = '';\n",
              "          dataTable['output_type'] = 'display_data';\n",
              "          await google.colab.output.renderOutput(dataTable, element);\n",
              "          const docLink = document.createElement('div');\n",
              "          docLink.innerHTML = docLinkHtml;\n",
              "          element.appendChild(docLink);\n",
              "        }\n",
              "      </script>\n",
              "    </div>\n",
              "  </div>\n"
            ]
          },
          "metadata": {},
          "execution_count": 8
        }
      ]
    },
    {
      "cell_type": "markdown",
      "metadata": {
        "id": "lEzs80JnGbQb"
      },
      "source": [
        "### 2.2. Dividindo o dataset em atributos e classes"
      ]
    },
    {
      "cell_type": "code",
      "source": [
        "classes = df['class'].unique()\n",
        "print(classes)"
      ],
      "metadata": {
        "id": "Q2qeB6ZBLrLg",
        "colab": {
          "base_uri": "https://localhost:8080/"
        },
        "outputId": "e137edd9-bca0-4e0a-9b01-fa14a27679d8"
      },
      "execution_count": 9,
      "outputs": [
        {
          "output_type": "stream",
          "name": "stdout",
          "text": [
            "['GALAXY' 'QSO' 'STAR']\n"
          ]
        }
      ]
    },
    {
      "cell_type": "markdown",
      "source": [
        "\n",
        "\n"
      ],
      "metadata": {
        "id": "bO3juNFaRaIP"
      }
    },
    {
      "cell_type": "code",
      "source": [
        "# Convertendo as classes em valores numéricos\n",
        "LE = LabelEncoder()\n",
        "#df['class'] = LE.fit_transform(df['class'])"
      ],
      "metadata": {
        "id": "SrL1aU1zZFwt"
      },
      "execution_count": 10,
      "outputs": []
    },
    {
      "cell_type": "code",
      "source": [
        "df['class'].value_counts() #VERIFICAÇÃO DE BALANCEAMENTO"
      ],
      "metadata": {
        "colab": {
          "base_uri": "https://localhost:8080/"
        },
        "id": "cI2PwepncVm9",
        "outputId": "2805046c-05b1-4fe3-8785-a16b00ee083a"
      },
      "execution_count": 11,
      "outputs": [
        {
          "output_type": "execute_result",
          "data": {
            "text/plain": [
              "GALAXY    59445\n",
              "STAR      21594\n",
              "QSO       18961\n",
              "Name: class, dtype: int64"
            ]
          },
          "metadata": {},
          "execution_count": 11
        }
      ]
    },
    {
      "cell_type": "code",
      "execution_count": 12,
      "metadata": {
        "id": "XVyQ_DMKGbQh"
      },
      "outputs": [],
      "source": [
        "y = df['class'] # Classes/Labels\n",
        "df = df.drop(['class'], axis = 1)\n",
        "x = df.iloc[:, 0:17].values # Atributos/Features"
      ]
    },
    {
      "cell_type": "code",
      "source": [
        "df.iloc[:, 0:17].info()"
      ],
      "metadata": {
        "colab": {
          "base_uri": "https://localhost:8080/"
        },
        "id": "p5FRxsyuj_Y1",
        "outputId": "924ef38b-df0c-489f-d232-aa8c97958031"
      },
      "execution_count": 13,
      "outputs": [
        {
          "output_type": "stream",
          "name": "stdout",
          "text": [
            "<class 'pandas.core.frame.DataFrame'>\n",
            "RangeIndex: 100000 entries, 0 to 99999\n",
            "Data columns (total 17 columns):\n",
            " #   Column       Non-Null Count   Dtype  \n",
            "---  ------       --------------   -----  \n",
            " 0   obj_ID       100000 non-null  float64\n",
            " 1   alpha        100000 non-null  float64\n",
            " 2   delta        100000 non-null  float64\n",
            " 3   u            100000 non-null  float64\n",
            " 4   g            100000 non-null  float64\n",
            " 5   r            100000 non-null  float64\n",
            " 6   i            100000 non-null  float64\n",
            " 7   z            100000 non-null  float64\n",
            " 8   run_ID       100000 non-null  int64  \n",
            " 9   rerun_ID     100000 non-null  int64  \n",
            " 10  cam_col      100000 non-null  int64  \n",
            " 11  field_ID     100000 non-null  int64  \n",
            " 12  spec_obj_ID  100000 non-null  float64\n",
            " 13  redshift     100000 non-null  float64\n",
            " 14  plate        100000 non-null  int64  \n",
            " 15  MJD          100000 non-null  int64  \n",
            " 16  fiber_ID     100000 non-null  int64  \n",
            "dtypes: float64(10), int64(7)\n",
            "memory usage: 13.0 MB\n"
          ]
        }
      ]
    },
    {
      "cell_type": "code",
      "source": [
        "df.head()"
      ],
      "metadata": {
        "colab": {
          "base_uri": "https://localhost:8080/",
          "height": 206
        },
        "id": "dqPe1VPCZ93d",
        "outputId": "f0a7083f-b58a-442a-fd86-463605ab041b"
      },
      "execution_count": 14,
      "outputs": [
        {
          "output_type": "execute_result",
          "data": {
            "text/plain": [
              "         obj_ID       alpha      delta         u         g         r  \\\n",
              "0  1.237661e+18  135.689107  32.494632  23.87882  22.27530  20.39501   \n",
              "1  1.237665e+18  144.826101  31.274185  24.77759  22.83188  22.58444   \n",
              "2  1.237661e+18  142.188790  35.582444  25.26307  22.66389  20.60976   \n",
              "3  1.237663e+18  338.741038  -0.402828  22.13682  23.77656  21.61162   \n",
              "4  1.237680e+18  345.282593  21.183866  19.43718  17.58028  16.49747   \n",
              "\n",
              "          i         z  run_ID  rerun_ID  cam_col  field_ID   spec_obj_ID  \\\n",
              "0  19.16573  18.79371    3606       301        2        79  6.543777e+18   \n",
              "1  21.16812  21.61427    4518       301        5       119  1.176014e+19   \n",
              "2  19.34857  18.94827    3606       301        2       120  5.152200e+18   \n",
              "3  20.50454  19.25010    4192       301        3       214  1.030107e+19   \n",
              "4  15.97711  15.54461    8102       301        3       137  6.891865e+18   \n",
              "\n",
              "   redshift  plate    MJD  fiber_ID  \n",
              "0  0.634794   5812  56354       171  \n",
              "1  0.779136  10445  58158       427  \n",
              "2  0.644195   4576  55592       299  \n",
              "3  0.932346   9149  58039       775  \n",
              "4  0.116123   6121  56187       842  "
            ],
            "text/html": [
              "\n",
              "\n",
              "  <div id=\"df-c46d278a-ee3d-4515-ac40-3c84427d0fcc\">\n",
              "    <div class=\"colab-df-container\">\n",
              "      <div>\n",
              "<style scoped>\n",
              "    .dataframe tbody tr th:only-of-type {\n",
              "        vertical-align: middle;\n",
              "    }\n",
              "\n",
              "    .dataframe tbody tr th {\n",
              "        vertical-align: top;\n",
              "    }\n",
              "\n",
              "    .dataframe thead th {\n",
              "        text-align: right;\n",
              "    }\n",
              "</style>\n",
              "<table border=\"1\" class=\"dataframe\">\n",
              "  <thead>\n",
              "    <tr style=\"text-align: right;\">\n",
              "      <th></th>\n",
              "      <th>obj_ID</th>\n",
              "      <th>alpha</th>\n",
              "      <th>delta</th>\n",
              "      <th>u</th>\n",
              "      <th>g</th>\n",
              "      <th>r</th>\n",
              "      <th>i</th>\n",
              "      <th>z</th>\n",
              "      <th>run_ID</th>\n",
              "      <th>rerun_ID</th>\n",
              "      <th>cam_col</th>\n",
              "      <th>field_ID</th>\n",
              "      <th>spec_obj_ID</th>\n",
              "      <th>redshift</th>\n",
              "      <th>plate</th>\n",
              "      <th>MJD</th>\n",
              "      <th>fiber_ID</th>\n",
              "    </tr>\n",
              "  </thead>\n",
              "  <tbody>\n",
              "    <tr>\n",
              "      <th>0</th>\n",
              "      <td>1.237661e+18</td>\n",
              "      <td>135.689107</td>\n",
              "      <td>32.494632</td>\n",
              "      <td>23.87882</td>\n",
              "      <td>22.27530</td>\n",
              "      <td>20.39501</td>\n",
              "      <td>19.16573</td>\n",
              "      <td>18.79371</td>\n",
              "      <td>3606</td>\n",
              "      <td>301</td>\n",
              "      <td>2</td>\n",
              "      <td>79</td>\n",
              "      <td>6.543777e+18</td>\n",
              "      <td>0.634794</td>\n",
              "      <td>5812</td>\n",
              "      <td>56354</td>\n",
              "      <td>171</td>\n",
              "    </tr>\n",
              "    <tr>\n",
              "      <th>1</th>\n",
              "      <td>1.237665e+18</td>\n",
              "      <td>144.826101</td>\n",
              "      <td>31.274185</td>\n",
              "      <td>24.77759</td>\n",
              "      <td>22.83188</td>\n",
              "      <td>22.58444</td>\n",
              "      <td>21.16812</td>\n",
              "      <td>21.61427</td>\n",
              "      <td>4518</td>\n",
              "      <td>301</td>\n",
              "      <td>5</td>\n",
              "      <td>119</td>\n",
              "      <td>1.176014e+19</td>\n",
              "      <td>0.779136</td>\n",
              "      <td>10445</td>\n",
              "      <td>58158</td>\n",
              "      <td>427</td>\n",
              "    </tr>\n",
              "    <tr>\n",
              "      <th>2</th>\n",
              "      <td>1.237661e+18</td>\n",
              "      <td>142.188790</td>\n",
              "      <td>35.582444</td>\n",
              "      <td>25.26307</td>\n",
              "      <td>22.66389</td>\n",
              "      <td>20.60976</td>\n",
              "      <td>19.34857</td>\n",
              "      <td>18.94827</td>\n",
              "      <td>3606</td>\n",
              "      <td>301</td>\n",
              "      <td>2</td>\n",
              "      <td>120</td>\n",
              "      <td>5.152200e+18</td>\n",
              "      <td>0.644195</td>\n",
              "      <td>4576</td>\n",
              "      <td>55592</td>\n",
              "      <td>299</td>\n",
              "    </tr>\n",
              "    <tr>\n",
              "      <th>3</th>\n",
              "      <td>1.237663e+18</td>\n",
              "      <td>338.741038</td>\n",
              "      <td>-0.402828</td>\n",
              "      <td>22.13682</td>\n",
              "      <td>23.77656</td>\n",
              "      <td>21.61162</td>\n",
              "      <td>20.50454</td>\n",
              "      <td>19.25010</td>\n",
              "      <td>4192</td>\n",
              "      <td>301</td>\n",
              "      <td>3</td>\n",
              "      <td>214</td>\n",
              "      <td>1.030107e+19</td>\n",
              "      <td>0.932346</td>\n",
              "      <td>9149</td>\n",
              "      <td>58039</td>\n",
              "      <td>775</td>\n",
              "    </tr>\n",
              "    <tr>\n",
              "      <th>4</th>\n",
              "      <td>1.237680e+18</td>\n",
              "      <td>345.282593</td>\n",
              "      <td>21.183866</td>\n",
              "      <td>19.43718</td>\n",
              "      <td>17.58028</td>\n",
              "      <td>16.49747</td>\n",
              "      <td>15.97711</td>\n",
              "      <td>15.54461</td>\n",
              "      <td>8102</td>\n",
              "      <td>301</td>\n",
              "      <td>3</td>\n",
              "      <td>137</td>\n",
              "      <td>6.891865e+18</td>\n",
              "      <td>0.116123</td>\n",
              "      <td>6121</td>\n",
              "      <td>56187</td>\n",
              "      <td>842</td>\n",
              "    </tr>\n",
              "  </tbody>\n",
              "</table>\n",
              "</div>\n",
              "      <button class=\"colab-df-convert\" onclick=\"convertToInteractive('df-c46d278a-ee3d-4515-ac40-3c84427d0fcc')\"\n",
              "              title=\"Convert this dataframe to an interactive table.\"\n",
              "              style=\"display:none;\">\n",
              "\n",
              "  <svg xmlns=\"http://www.w3.org/2000/svg\" height=\"24px\"viewBox=\"0 0 24 24\"\n",
              "       width=\"24px\">\n",
              "    <path d=\"M0 0h24v24H0V0z\" fill=\"none\"/>\n",
              "    <path d=\"M18.56 5.44l.94 2.06.94-2.06 2.06-.94-2.06-.94-.94-2.06-.94 2.06-2.06.94zm-11 1L8.5 8.5l.94-2.06 2.06-.94-2.06-.94L8.5 2.5l-.94 2.06-2.06.94zm10 10l.94 2.06.94-2.06 2.06-.94-2.06-.94-.94-2.06-.94 2.06-2.06.94z\"/><path d=\"M17.41 7.96l-1.37-1.37c-.4-.4-.92-.59-1.43-.59-.52 0-1.04.2-1.43.59L10.3 9.45l-7.72 7.72c-.78.78-.78 2.05 0 2.83L4 21.41c.39.39.9.59 1.41.59.51 0 1.02-.2 1.41-.59l7.78-7.78 2.81-2.81c.8-.78.8-2.07 0-2.86zM5.41 20L4 18.59l7.72-7.72 1.47 1.35L5.41 20z\"/>\n",
              "  </svg>\n",
              "      </button>\n",
              "\n",
              "\n",
              "\n",
              "    <div id=\"df-cef0f76b-99af-46c2-8884-e7f27678e17e\">\n",
              "      <button class=\"colab-df-quickchart\" onclick=\"quickchart('df-cef0f76b-99af-46c2-8884-e7f27678e17e')\"\n",
              "              title=\"Suggest charts.\"\n",
              "              style=\"display:none;\">\n",
              "\n",
              "<svg xmlns=\"http://www.w3.org/2000/svg\" height=\"24px\"viewBox=\"0 0 24 24\"\n",
              "     width=\"24px\">\n",
              "    <g>\n",
              "        <path d=\"M19 3H5c-1.1 0-2 .9-2 2v14c0 1.1.9 2 2 2h14c1.1 0 2-.9 2-2V5c0-1.1-.9-2-2-2zM9 17H7v-7h2v7zm4 0h-2V7h2v10zm4 0h-2v-4h2v4z\"/>\n",
              "    </g>\n",
              "</svg>\n",
              "      </button>\n",
              "    </div>\n",
              "\n",
              "<style>\n",
              "  .colab-df-quickchart {\n",
              "    background-color: #E8F0FE;\n",
              "    border: none;\n",
              "    border-radius: 50%;\n",
              "    cursor: pointer;\n",
              "    display: none;\n",
              "    fill: #1967D2;\n",
              "    height: 32px;\n",
              "    padding: 0 0 0 0;\n",
              "    width: 32px;\n",
              "  }\n",
              "\n",
              "  .colab-df-quickchart:hover {\n",
              "    background-color: #E2EBFA;\n",
              "    box-shadow: 0px 1px 2px rgba(60, 64, 67, 0.3), 0px 1px 3px 1px rgba(60, 64, 67, 0.15);\n",
              "    fill: #174EA6;\n",
              "  }\n",
              "\n",
              "  [theme=dark] .colab-df-quickchart {\n",
              "    background-color: #3B4455;\n",
              "    fill: #D2E3FC;\n",
              "  }\n",
              "\n",
              "  [theme=dark] .colab-df-quickchart:hover {\n",
              "    background-color: #434B5C;\n",
              "    box-shadow: 0px 1px 3px 1px rgba(0, 0, 0, 0.15);\n",
              "    filter: drop-shadow(0px 1px 2px rgba(0, 0, 0, 0.3));\n",
              "    fill: #FFFFFF;\n",
              "  }\n",
              "</style>\n",
              "\n",
              "    <script>\n",
              "      async function quickchart(key) {\n",
              "        const containerElement = document.querySelector('#' + key);\n",
              "        const charts = await google.colab.kernel.invokeFunction(\n",
              "            'suggestCharts', [key], {});\n",
              "      }\n",
              "    </script>\n",
              "\n",
              "      <script>\n",
              "\n",
              "function displayQuickchartButton(domScope) {\n",
              "  let quickchartButtonEl =\n",
              "    domScope.querySelector('#df-cef0f76b-99af-46c2-8884-e7f27678e17e button.colab-df-quickchart');\n",
              "  quickchartButtonEl.style.display =\n",
              "    google.colab.kernel.accessAllowed ? 'block' : 'none';\n",
              "}\n",
              "\n",
              "        displayQuickchartButton(document);\n",
              "      </script>\n",
              "      <style>\n",
              "    .colab-df-container {\n",
              "      display:flex;\n",
              "      flex-wrap:wrap;\n",
              "      gap: 12px;\n",
              "    }\n",
              "\n",
              "    .colab-df-convert {\n",
              "      background-color: #E8F0FE;\n",
              "      border: none;\n",
              "      border-radius: 50%;\n",
              "      cursor: pointer;\n",
              "      display: none;\n",
              "      fill: #1967D2;\n",
              "      height: 32px;\n",
              "      padding: 0 0 0 0;\n",
              "      width: 32px;\n",
              "    }\n",
              "\n",
              "    .colab-df-convert:hover {\n",
              "      background-color: #E2EBFA;\n",
              "      box-shadow: 0px 1px 2px rgba(60, 64, 67, 0.3), 0px 1px 3px 1px rgba(60, 64, 67, 0.15);\n",
              "      fill: #174EA6;\n",
              "    }\n",
              "\n",
              "    [theme=dark] .colab-df-convert {\n",
              "      background-color: #3B4455;\n",
              "      fill: #D2E3FC;\n",
              "    }\n",
              "\n",
              "    [theme=dark] .colab-df-convert:hover {\n",
              "      background-color: #434B5C;\n",
              "      box-shadow: 0px 1px 3px 1px rgba(0, 0, 0, 0.15);\n",
              "      filter: drop-shadow(0px 1px 2px rgba(0, 0, 0, 0.3));\n",
              "      fill: #FFFFFF;\n",
              "    }\n",
              "  </style>\n",
              "\n",
              "      <script>\n",
              "        const buttonEl =\n",
              "          document.querySelector('#df-c46d278a-ee3d-4515-ac40-3c84427d0fcc button.colab-df-convert');\n",
              "        buttonEl.style.display =\n",
              "          google.colab.kernel.accessAllowed ? 'block' : 'none';\n",
              "\n",
              "        async function convertToInteractive(key) {\n",
              "          const element = document.querySelector('#df-c46d278a-ee3d-4515-ac40-3c84427d0fcc');\n",
              "          const dataTable =\n",
              "            await google.colab.kernel.invokeFunction('convertToInteractive',\n",
              "                                                     [key], {});\n",
              "          if (!dataTable) return;\n",
              "\n",
              "          const docLinkHtml = 'Like what you see? Visit the ' +\n",
              "            '<a target=\"_blank\" href=https://colab.research.google.com/notebooks/data_table.ipynb>data table notebook</a>'\n",
              "            + ' to learn more about interactive tables.';\n",
              "          element.innerHTML = '';\n",
              "          dataTable['output_type'] = 'display_data';\n",
              "          await google.colab.output.renderOutput(dataTable, element);\n",
              "          const docLink = document.createElement('div');\n",
              "          docLink.innerHTML = docLinkHtml;\n",
              "          element.appendChild(docLink);\n",
              "        }\n",
              "      </script>\n",
              "    </div>\n",
              "  </div>\n"
            ]
          },
          "metadata": {},
          "execution_count": 14
        }
      ]
    },
    {
      "cell_type": "code",
      "source": [
        "from imblearn.over_sampling import SMOTE\n",
        "\n",
        "sm = SMOTE(random_state=42, k_neighbors=5)\n",
        "dataset_res, ouput_label = sm.fit_resample(x, y)"
      ],
      "metadata": {
        "id": "Sy8_jfhbdfPl"
      },
      "execution_count": 15,
      "outputs": []
    },
    {
      "cell_type": "code",
      "source": [
        "ouput_label.value_counts()"
      ],
      "metadata": {
        "colab": {
          "base_uri": "https://localhost:8080/"
        },
        "id": "wXNPRBwWm5dN",
        "outputId": "2d4d0890-edc3-4658-a957-35aa8fd6e0d1"
      },
      "execution_count": 16,
      "outputs": [
        {
          "output_type": "execute_result",
          "data": {
            "text/plain": [
              "GALAXY    59445\n",
              "QSO       59445\n",
              "STAR      59445\n",
              "Name: class, dtype: int64"
            ]
          },
          "metadata": {},
          "execution_count": 16
        }
      ]
    },
    {
      "cell_type": "markdown",
      "metadata": {
        "id": "P-xZXh-wGbQp"
      },
      "source": [
        "## 3. Dividindo o dataset em treino e teste"
      ]
    },
    {
      "cell_type": "code",
      "execution_count": 17,
      "metadata": {
        "id": "D1374nHcIQ04"
      },
      "outputs": [],
      "source": [
        "# Dividindo os dados em treino e teste em 80% e 20% respectivamente\n",
        "entrada_treino, entrada_test, saida_treino, saida_test = train_test_split(dataset_res, ouput_label, test_size=0.2)\n",
        "\n",
        "# Padronizando os dados de entrada (X) para média 0 e desvio padrão 1\n",
        "sc = StandardScaler()\n",
        "sc.fit(entrada_treino)\n",
        "x_treino_padrao = sc.fit_transform(entrada_treino)\n",
        "x_test_padrao = sc.transform(entrada_test)\n",
        "\n",
        "# Convertendo as classes em valores numéricos\n",
        "# Uma classe será representada por um vetor de 3 posições, onde apenas uma posição será 1 e as outras 0\n",
        "# Exemplo: GALAXY = [1, 0, 0]\n",
        "#          QSO = [0, 1, 0]\n",
        "#          STAR = [0, 0, 1]\n",
        "# Fazemos isso, pois o algoritmo de aprendizado de máquina espera os dados sejam representadas por valores numéricos\n",
        "saida_treino_onehot = pd.get_dummies(saida_treino).values\n",
        "saida_test_onehot = pd.get_dummies(saida_test).values"
      ]
    },
    {
      "cell_type": "code",
      "source": [
        "print(saida_test_onehot)"
      ],
      "metadata": {
        "colab": {
          "base_uri": "https://localhost:8080/"
        },
        "id": "3ZUcn4HdlAoU",
        "outputId": "72293656-bd33-40a0-d609-e27e602cfb48"
      },
      "execution_count": 18,
      "outputs": [
        {
          "output_type": "stream",
          "name": "stdout",
          "text": [
            "[[0 1 0]\n",
            " [0 0 1]\n",
            " [0 0 1]\n",
            " ...\n",
            " [0 1 0]\n",
            " [0 1 0]\n",
            " [1 0 0]]\n"
          ]
        }
      ]
    },
    {
      "cell_type": "markdown",
      "metadata": {
        "id": "OW9txI-YGbQt"
      },
      "source": [
        "## 4. Criando o modelo"
      ]
    },
    {
      "cell_type": "markdown",
      "source": [
        "Documentação\n",
        "\n",
        "https://keras.io/api/layers/activations/\n",
        "\n",
        "https://keras.io/api/layers/core_layers/dense/\n",
        "\n",
        "https://keras.io/api/optimizers/"
      ],
      "metadata": {
        "id": "rk1JfNAiGrmV"
      }
    },
    {
      "cell_type": "code",
      "execution_count": 19,
      "metadata": {
        "id": "JGX2rgFeIbxp",
        "colab": {
          "base_uri": "https://localhost:8080/"
        },
        "outputId": "8f091e88-8fc5-4214-aadc-f503ea90dbeb"
      },
      "outputs": [
        {
          "output_type": "stream",
          "name": "stdout",
          "text": [
            "Model: \"sequential\"\n",
            "_________________________________________________________________\n",
            " Layer (type)                Output Shape              Param #   \n",
            "=================================================================\n",
            " oculta (Dense)              (None, 4690)              84420     \n",
            "                                                                 \n",
            " saida (Dense)               (None, 3)                 14073     \n",
            "                                                                 \n",
            "=================================================================\n",
            "Total params: 98,493\n",
            "Trainable params: 98,493\n",
            "Non-trainable params: 0\n",
            "_________________________________________________________________\n"
          ]
        }
      ],
      "source": [
        "# Modelo de rede perceptron multicamadas com uma camada oculta de 64 neurônios\n",
        "# e camada de saída com 3 neurônios (3 classes)\n",
        "model = tf.keras.models.Sequential()\n",
        "model.add(tf.keras.layers.Dense(4690, input_dim=17, activation='sigmoid', name='oculta'))\n",
        "model.add(tf.keras.layers.Dense(3, activation='softmax', name='saida'))\n",
        "model.summary() #visualizando o modelo"
      ]
    },
    {
      "cell_type": "markdown",
      "metadata": {
        "id": "giZCym-7GbQx"
      },
      "source": [
        "### 4.1. Compilando o modelo"
      ]
    },
    {
      "cell_type": "code",
      "execution_count": 20,
      "metadata": {
        "id": "0PGgyuybGbQy"
      },
      "outputs": [],
      "source": [
        "# Compile model\n",
        "# Otimizador Adam com taxa de aprendizado de 0.01\n",
        "opt = tf.keras.optimizers.Adam(learning_rate=0.01)\n",
        "# Função de custo categorical_crossentropy (para problemas de classificação com mais de duas classes)\n",
        "# Métrica de avaliação MSE (Mean Squared Error)\n",
        "model.compile(loss='categorical_crossentropy', optimizer=opt, metrics=['mse'])"
      ]
    },
    {
      "cell_type": "markdown",
      "metadata": {
        "id": "fOre_lpsGbQ0"
      },
      "source": [
        "### 4.2. Treinando o modelo"
      ]
    },
    {
      "cell_type": "code",
      "execution_count": 21,
      "metadata": {
        "id": "dUv0zfv7I97M",
        "colab": {
          "base_uri": "https://localhost:8080/"
        },
        "outputId": "51afde96-a622-4a01-b4db-c215f826654c"
      },
      "outputs": [
        {
          "output_type": "stream",
          "name": "stdout",
          "text": [
            "Epoch 1/50\n",
            "3567/3567 [==============================] - 24s 6ms/step - loss: 0.4607 - mse: 0.0543 - val_loss: 0.3294 - val_mse: 0.0510\n",
            "Epoch 2/50\n",
            "3567/3567 [==============================] - 32s 9ms/step - loss: 0.2007 - mse: 0.0299 - val_loss: 0.1476 - val_mse: 0.0236\n",
            "Epoch 3/50\n",
            "3567/3567 [==============================] - 22s 6ms/step - loss: 0.1572 - mse: 0.0247 - val_loss: 0.1207 - val_mse: 0.0192\n",
            "Epoch 4/50\n",
            "3567/3567 [==============================] - 23s 6ms/step - loss: 0.1316 - mse: 0.0215 - val_loss: 0.1126 - val_mse: 0.0188\n",
            "Epoch 5/50\n",
            "3567/3567 [==============================] - 22s 6ms/step - loss: 0.1227 - mse: 0.0197 - val_loss: 0.1142 - val_mse: 0.0192\n",
            "Epoch 6/50\n",
            "3567/3567 [==============================] - 23s 6ms/step - loss: 0.1103 - mse: 0.0185 - val_loss: 0.0984 - val_mse: 0.0164\n",
            "Epoch 7/50\n",
            "3567/3567 [==============================] - 22s 6ms/step - loss: 0.1045 - mse: 0.0174 - val_loss: 0.0941 - val_mse: 0.0158\n",
            "Epoch 8/50\n",
            "3567/3567 [==============================] - 41s 11ms/step - loss: 0.1002 - mse: 0.0168 - val_loss: 0.1047 - val_mse: 0.0182\n",
            "Epoch 9/50\n",
            "3567/3567 [==============================] - 27s 8ms/step - loss: 0.0970 - mse: 0.0162 - val_loss: 0.0992 - val_mse: 0.0165\n",
            "Epoch 10/50\n",
            "3567/3567 [==============================] - 22s 6ms/step - loss: 0.0970 - mse: 0.0160 - val_loss: 0.0899 - val_mse: 0.0150\n",
            "Epoch 11/50\n",
            "3567/3567 [==============================] - 22s 6ms/step - loss: 0.0934 - mse: 0.0157 - val_loss: 0.0982 - val_mse: 0.0164\n",
            "Epoch 12/50\n",
            "3567/3567 [==============================] - 21s 6ms/step - loss: 0.0908 - mse: 0.0153 - val_loss: 0.0964 - val_mse: 0.0162\n",
            "Epoch 13/50\n",
            "3567/3567 [==============================] - 23s 7ms/step - loss: 0.0902 - mse: 0.0152 - val_loss: 0.1022 - val_mse: 0.0175\n",
            "Epoch 14/50\n",
            "3567/3567 [==============================] - 23s 6ms/step - loss: 0.0888 - mse: 0.0149 - val_loss: 0.0896 - val_mse: 0.0149\n",
            "Epoch 15/50\n",
            "3567/3567 [==============================] - 21s 6ms/step - loss: 0.0886 - mse: 0.0149 - val_loss: 0.0911 - val_mse: 0.0152\n",
            "Epoch 16/50\n",
            "3567/3567 [==============================] - 21s 6ms/step - loss: 0.0880 - mse: 0.0149 - val_loss: 0.0996 - val_mse: 0.0166\n",
            "Epoch 17/50\n",
            "3567/3567 [==============================] - 22s 6ms/step - loss: 0.0869 - mse: 0.0147 - val_loss: 0.0893 - val_mse: 0.0145\n",
            "Epoch 18/50\n",
            "3567/3567 [==============================] - 21s 6ms/step - loss: 0.0858 - mse: 0.0143 - val_loss: 0.1015 - val_mse: 0.0169\n",
            "Epoch 19/50\n",
            "3567/3567 [==============================] - 24s 7ms/step - loss: 0.0867 - mse: 0.0146 - val_loss: 0.0893 - val_mse: 0.0147\n",
            "Epoch 20/50\n",
            "3567/3567 [==============================] - 23s 6ms/step - loss: 0.0844 - mse: 0.0143 - val_loss: 0.0862 - val_mse: 0.0140\n",
            "Epoch 21/50\n",
            "3567/3567 [==============================] - 22s 6ms/step - loss: 0.0834 - mse: 0.0141 - val_loss: 0.0909 - val_mse: 0.0148\n",
            "Epoch 22/50\n",
            "3567/3567 [==============================] - 21s 6ms/step - loss: 0.0837 - mse: 0.0141 - val_loss: 0.0908 - val_mse: 0.0150\n",
            "Epoch 23/50\n",
            "3567/3567 [==============================] - 22s 6ms/step - loss: 0.0835 - mse: 0.0141 - val_loss: 0.0930 - val_mse: 0.0153\n",
            "Epoch 24/50\n",
            "3567/3567 [==============================] - 24s 7ms/step - loss: 0.0827 - mse: 0.0139 - val_loss: 0.0887 - val_mse: 0.0144\n",
            "Epoch 25/50\n",
            "3567/3567 [==============================] - 21s 6ms/step - loss: 0.0834 - mse: 0.0140 - val_loss: 0.0855 - val_mse: 0.0143\n",
            "Epoch 26/50\n",
            "3567/3567 [==============================] - 21s 6ms/step - loss: 0.0815 - mse: 0.0137 - val_loss: 0.0880 - val_mse: 0.0143\n",
            "Epoch 27/50\n",
            "3567/3567 [==============================] - 22s 6ms/step - loss: 0.0815 - mse: 0.0137 - val_loss: 0.0879 - val_mse: 0.0146\n",
            "Epoch 28/50\n",
            "3567/3567 [==============================] - 21s 6ms/step - loss: 0.0809 - mse: 0.0136 - val_loss: 0.0904 - val_mse: 0.0149\n",
            "Epoch 29/50\n",
            "3567/3567 [==============================] - 22s 6ms/step - loss: 0.0803 - mse: 0.0136 - val_loss: 0.0834 - val_mse: 0.0138\n",
            "Epoch 30/50\n",
            "3567/3567 [==============================] - 22s 6ms/step - loss: 0.0800 - mse: 0.0135 - val_loss: 0.1002 - val_mse: 0.0168\n",
            "Epoch 31/50\n",
            "3567/3567 [==============================] - 24s 7ms/step - loss: 0.0805 - mse: 0.0135 - val_loss: 0.0875 - val_mse: 0.0144\n",
            "Epoch 32/50\n",
            "3567/3567 [==============================] - 21s 6ms/step - loss: 0.0793 - mse: 0.0133 - val_loss: 0.0918 - val_mse: 0.0151\n",
            "Epoch 33/50\n",
            "3567/3567 [==============================] - 22s 6ms/step - loss: 0.0797 - mse: 0.0134 - val_loss: 0.0923 - val_mse: 0.0150\n",
            "Epoch 34/50\n",
            "3567/3567 [==============================] - 21s 6ms/step - loss: 0.0786 - mse: 0.0133 - val_loss: 0.0847 - val_mse: 0.0140\n",
            "Epoch 35/50\n",
            "3567/3567 [==============================] - 21s 6ms/step - loss: 0.0793 - mse: 0.0134 - val_loss: 0.0884 - val_mse: 0.0143\n",
            "Epoch 36/50\n",
            "3567/3567 [==============================] - 22s 6ms/step - loss: 0.0784 - mse: 0.0133 - val_loss: 0.0951 - val_mse: 0.0154\n",
            "Epoch 37/50\n",
            "3567/3567 [==============================] - 22s 6ms/step - loss: 0.0779 - mse: 0.0131 - val_loss: 0.1038 - val_mse: 0.0166\n",
            "Epoch 38/50\n",
            "3567/3567 [==============================] - 24s 7ms/step - loss: 0.0774 - mse: 0.0131 - val_loss: 0.0873 - val_mse: 0.0141\n",
            "Epoch 39/50\n",
            "3567/3567 [==============================] - 22s 6ms/step - loss: 0.0779 - mse: 0.0131 - val_loss: 0.0862 - val_mse: 0.0140\n",
            "Epoch 40/50\n",
            "3567/3567 [==============================] - 22s 6ms/step - loss: 0.0770 - mse: 0.0130 - val_loss: 0.0850 - val_mse: 0.0137\n",
            "Epoch 41/50\n",
            "3567/3567 [==============================] - 22s 6ms/step - loss: 0.0772 - mse: 0.0131 - val_loss: 0.0909 - val_mse: 0.0146\n",
            "Epoch 42/50\n",
            "3567/3567 [==============================] - 21s 6ms/step - loss: 0.0769 - mse: 0.0129 - val_loss: 0.0875 - val_mse: 0.0142\n",
            "Epoch 43/50\n",
            "3567/3567 [==============================] - 21s 6ms/step - loss: 0.0770 - mse: 0.0130 - val_loss: 0.0878 - val_mse: 0.0143\n",
            "Epoch 44/50\n",
            "3567/3567 [==============================] - 22s 6ms/step - loss: 0.0769 - mse: 0.0130 - val_loss: 0.0921 - val_mse: 0.0155\n",
            "Epoch 45/50\n",
            "3567/3567 [==============================] - 21s 6ms/step - loss: 0.0767 - mse: 0.0130 - val_loss: 0.1022 - val_mse: 0.0162\n",
            "Epoch 46/50\n",
            "3567/3567 [==============================] - 21s 6ms/step - loss: 0.0764 - mse: 0.0129 - val_loss: 0.0888 - val_mse: 0.0145\n",
            "Epoch 47/50\n",
            "3567/3567 [==============================] - 22s 6ms/step - loss: 0.0752 - mse: 0.0127 - val_loss: 0.0893 - val_mse: 0.0143\n",
            "Epoch 48/50\n",
            "3567/3567 [==============================] - 22s 6ms/step - loss: 0.0755 - mse: 0.0128 - val_loss: 0.0918 - val_mse: 0.0146\n",
            "Epoch 49/50\n",
            "3567/3567 [==============================] - 23s 6ms/step - loss: 0.0745 - mse: 0.0126 - val_loss: 0.0835 - val_mse: 0.0136\n",
            "Epoch 50/50\n",
            "3567/3567 [==============================] - 22s 6ms/step - loss: 0.0749 - mse: 0.0127 - val_loss: 0.0869 - val_mse: 0.0139\n"
          ]
        }
      ],
      "source": [
        "# Train model\n",
        "history = model.fit(x_treino_padrao, saida_treino_onehot, validation_split=0.2, epochs=50)"
      ]
    },
    {
      "cell_type": "markdown",
      "metadata": {
        "id": "TxuW99TOGbQ3"
      },
      "source": [
        "## 5. Visualizando o erro"
      ]
    },
    {
      "cell_type": "code",
      "execution_count": 34,
      "metadata": {
        "id": "VJEAaGMVJf6O",
        "colab": {
          "base_uri": "https://localhost:8080/",
          "height": 472
        },
        "outputId": "3e93e752-f92d-45ce-8ef2-73371de4cada"
      },
      "outputs": [
        {
          "output_type": "display_data",
          "data": {
            "text/plain": [
              "<Figure size 640x480 with 1 Axes>"
            ],
            "image/png": "[encoded data removed]"
          },
          "metadata": {}
        }
      ],
      "source": [
        "# Plot training & validation accuracy values\n",
        "plt.plot(history.history['loss'])\n",
        "plt.plot(history.history['val_loss'])\n",
        "plt.yscale(\"log\")\n",
        "plt.title('Função Perda')\n",
        "plt.ylabel('MSE')\n",
        "plt.xlabel('Epocas')\n",
        "plt.legend(['Treino', 'Teste'], loc='upper left')\n",
        "plt.grid()\n",
        "plt.show()\n"
      ]
    },
    {
      "cell_type": "code",
      "source": [
        "pd.DataFrame(history.history).to_csv('custo.csv')"
      ],
      "metadata": {
        "id": "EOkyaZ0_cTAS"
      },
      "execution_count": 38,
      "outputs": []
    },
    {
      "cell_type": "markdown",
      "source": [
        "## 6.Métricas: Avaliação do modelo"
      ],
      "metadata": {
        "id": "McwKm9M5qGiI"
      }
    },
    {
      "cell_type": "code",
      "source": [
        "output_model_ = np.argmax(model.predict(x_test_padrao), axis=-1)\n",
        "y_test_class = np.argmax(saida_test_onehot, axis=-1)"
      ],
      "metadata": {
        "colab": {
          "base_uri": "https://localhost:8080/"
        },
        "id": "96fhzDPVai1J",
        "outputId": "e17e5763-5185-4462-95d6-59a5c3dd7a74"
      },
      "execution_count": 23,
      "outputs": [
        {
          "output_type": "stream",
          "name": "stdout",
          "text": [
            "1115/1115 [==============================] - 3s 3ms/step\n"
          ]
        }
      ]
    },
    {
      "cell_type": "code",
      "source": [
        "from sklearn.metrics import accuracy_score\n",
        "from sklearn.metrics import precision_score\n",
        "from sklearn.metrics import recall_score\n",
        "from sklearn.metrics import f1_score\n",
        "\n",
        "print('Acurácia:', accuracy_score(y_test_class, output_model_))\n",
        "print('Precisão:', precision_score(y_test_class, output_model_, average='macro'))\n",
        "print('Sensibilidade:', recall_score(y_test_class, output_model_, average='macro'))\n",
        "print('F1-Score:', f1_score(y_test_class, output_model_, average='macro'))"
      ],
      "metadata": {
        "colab": {
          "base_uri": "https://localhost:8080/"
        },
        "id": "qZE92ZUKbsz6",
        "outputId": "f20f63cc-3dc1-448c-bb95-2be73c5b1a9b"
      },
      "execution_count": 24,
      "outputs": [
        {
          "output_type": "stream",
          "name": "stdout",
          "text": [
            "Acurácia: 0.9762525583873047\n",
            "Precisão: 0.9763270187411198\n",
            "Sensibilidade: 0.976412251465034\n",
            "F1-Score: 0.9762938304280947\n"
          ]
        }
      ]
    },
    {
      "cell_type": "code",
      "source": [
        "from sklearn.metrics import confusion_matrix, ConfusionMatrixDisplay\n",
        "\n",
        "cm = confusion_matrix(y_test_class, output_model_)\n",
        "disp = ConfusionMatrixDisplay(confusion_matrix=cm)\n",
        "disp.plot()\n",
        "disp.ax_.set_title('Matriz de confusão')\n",
        "disp.ax_.set_xlabel('Classificação prevista')\n",
        "disp.ax_.set_ylabel('Classificação real')\n",
        "plt.show()\n"
      ],
      "metadata": {
        "colab": {
          "base_uri": "https://localhost:8080/",
          "height": 472
        },
        "id": "OiTkelthb10P",
        "outputId": "b789ec5d-587a-4a6c-9413-dccb84cf40d4"
      },
      "execution_count": 25,
      "outputs": [
        {
          "output_type": "display_data",
          "data": {
            "text/plain": [
              "<Figure size 640x480 with 2 Axes>"
            ],
            "image/png": "[encoded data removed]"
          },
          "metadata": {}
        }
      ]
    },
    {
      "cell_type": "markdown",
      "source": [
        "## 7. Salvar Modelo"
      ],
      "metadata": {
        "id": "gs-j9Aa4YEM7"
      }
    },
    {
      "cell_type": "markdown",
      "source": [],
      "metadata": {
        "id": "BIw2CnOUYKgJ"
      }
    },
    {
      "cell_type": "code",
      "source": [
        "model.save('model.h5')"
      ],
      "metadata": {
        "id": "ZtAqQfKnYDnL"
      },
      "execution_count": 27,
      "outputs": []
    }
  ],
  "metadata": {
    "colab": {
      "provenance": []
    },
    "kernelspec": {
      "display_name": "ambiente",
      "language": "python",
      "name": "python3"
    },
    "language_info": {
      "codemirror_mode": {
        "name": "ipython",
        "version": 3
      },
      "file_extension": ".py",
      "mimetype": "text/x-python",
      "name": "python",
      "nbconvert_exporter": "python",
      "pygments_lexer": "ipython3"
    },
    "vscode": {
      "interpreter": {
        "hash": "0b0f9e579a5ece41b179913a5bfcba9b3bacc7831980973d665bb429e9c64d4c"
      }
    }
  },
  "nbformat": 4,
  "nbformat_minor": 0
}